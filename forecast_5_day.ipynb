{
 "cells": [
  {
   "cell_type": "markdown",
   "id": "ordinary-aircraft",
   "metadata": {},
   "source": [
    "# 5 Day Forecast"
   ]
  },
  {
   "cell_type": "code",
   "execution_count": 1,
   "id": "reserved-mechanism",
   "metadata": {},
   "outputs": [],
   "source": [
    "import requests\n",
    "import json\n",
    "import pandas as pd"
   ]
  },
  {
   "cell_type": "markdown",
   "id": "disciplinary-smooth",
   "metadata": {},
   "source": [
    "## Supply apikey"
   ]
  },
  {
   "cell_type": "code",
   "execution_count": 2,
   "id": "wired-bachelor",
   "metadata": {},
   "outputs": [
    {
     "name": "stdin",
     "output_type": "stream",
     "text": [
      "apikey ································\n"
     ]
    }
   ],
   "source": [
    "from getpass import getpass\n",
    "apikey = getpass('apikey')"
   ]
  },
  {
   "cell_type": "markdown",
   "id": "opposite-bloom",
   "metadata": {},
   "source": [
    "## Set location key\n",
    "There are several ways to get this\n",
    "- [geoposition](geoposition.ipynb)"
   ]
  },
  {
   "cell_type": "code",
   "execution_count": 3,
   "id": "molecular-checklist",
   "metadata": {},
   "outputs": [],
   "source": [
    "location_key = '339523'"
   ]
  },
  {
   "cell_type": "markdown",
   "id": "aggressive-washer",
   "metadata": {},
   "source": [
    "## Get 5 day forecast"
   ]
  },
  {
   "cell_type": "code",
   "execution_count": 4,
   "id": "painted-stopping",
   "metadata": {},
   "outputs": [],
   "source": [
    "forecast_5day_url = 'http://dataservice.accuweather.com/forecasts/v1/daily/5day/' + location_key"
   ]
  },
  {
   "cell_type": "code",
   "execution_count": 5,
   "id": "interpreted-springfield",
   "metadata": {},
   "outputs": [],
   "source": [
    "query5 = dict(apikey=apikey)\n",
    "forecast = json.loads(requests.get(forecast_5day_url, params=query5).text)"
   ]
  },
  {
   "cell_type": "code",
   "execution_count": 6,
   "id": "unable-comment",
   "metadata": {},
   "outputs": [],
   "source": [
    "# forecast"
   ]
  },
  {
   "cell_type": "code",
   "execution_count": 7,
   "id": "conditional-substitute",
   "metadata": {},
   "outputs": [
    {
     "name": "stdout",
     "output_type": "stream",
     "text": [
      "Headline\n",
      "Forecast effective 2021-03-26T02:00:00-04:00\n",
      "Rain and thunderstorms late Thursday night through Friday afternoon\n",
      "thunderstorm\n"
     ]
    }
   ],
   "source": [
    "headline = forecast['Headline']\n",
    "print(f\"Headline\\nForecast effective {headline['EffectiveDate']}\\n{headline['Text']}\\n{headline['Category']}\")"
   ]
  },
  {
   "cell_type": "code",
   "execution_count": 8,
   "id": "fewer-motor",
   "metadata": {},
   "outputs": [],
   "source": [
    "forecast_df = pd.DataFrame()\n",
    "for dt in forecast['DailyForecasts']:\n",
    "    row = dict(\n",
    "        Date=dt['Date'],\n",
    "        MinTemp=dt['Temperature']['Minimum']['Value'],\n",
    "        MaxTemp=dt['Temperature']['Maximum']['Value'],\n",
    "        Day=dt['Day']['IconPhrase'],\n",
    "        DayPrecip=dt['Day']['HasPrecipitation'],\n",
    "        Night=dt['Night']['IconPhrase'],\n",
    "        NightPrecip=dt['Night']['HasPrecipitation'],\n",
    "    )\n",
    "    forecast_df = forecast_df.append(row, ignore_index=True)"
   ]
  },
  {
   "cell_type": "code",
   "execution_count": 9,
   "id": "utility-darkness",
   "metadata": {},
   "outputs": [
    {
     "data": {
      "text/html": [
       "<div>\n",
       "<style scoped>\n",
       "    .dataframe tbody tr th:only-of-type {\n",
       "        vertical-align: middle;\n",
       "    }\n",
       "\n",
       "    .dataframe tbody tr th {\n",
       "        vertical-align: top;\n",
       "    }\n",
       "\n",
       "    .dataframe thead th {\n",
       "        text-align: right;\n",
       "    }\n",
       "</style>\n",
       "<table border=\"1\" class=\"dataframe\">\n",
       "  <thead>\n",
       "    <tr style=\"text-align: right;\">\n",
       "      <th></th>\n",
       "      <th>Date</th>\n",
       "      <th>MinTemp</th>\n",
       "      <th>MaxTemp</th>\n",
       "      <th>Day</th>\n",
       "      <th>DayPrecip</th>\n",
       "      <th>Night</th>\n",
       "      <th>NightPrecip</th>\n",
       "    </tr>\n",
       "  </thead>\n",
       "  <tbody>\n",
       "    <tr>\n",
       "      <th>0</th>\n",
       "      <td>2021-03-21T07:00:00-04:00</td>\n",
       "      <td>28.0</td>\n",
       "      <td>62.0</td>\n",
       "      <td>Sunny</td>\n",
       "      <td>0.0</td>\n",
       "      <td>Clear</td>\n",
       "      <td>0.0</td>\n",
       "    </tr>\n",
       "    <tr>\n",
       "      <th>1</th>\n",
       "      <td>2021-03-22T07:00:00-04:00</td>\n",
       "      <td>40.0</td>\n",
       "      <td>58.0</td>\n",
       "      <td>Mostly sunny</td>\n",
       "      <td>0.0</td>\n",
       "      <td>Clear</td>\n",
       "      <td>0.0</td>\n",
       "    </tr>\n",
       "    <tr>\n",
       "      <th>2</th>\n",
       "      <td>2021-03-23T07:00:00-04:00</td>\n",
       "      <td>41.0</td>\n",
       "      <td>62.0</td>\n",
       "      <td>Mostly sunny</td>\n",
       "      <td>0.0</td>\n",
       "      <td>Intermittent clouds</td>\n",
       "      <td>0.0</td>\n",
       "    </tr>\n",
       "    <tr>\n",
       "      <th>3</th>\n",
       "      <td>2021-03-24T07:00:00-04:00</td>\n",
       "      <td>48.0</td>\n",
       "      <td>60.0</td>\n",
       "      <td>Dreary</td>\n",
       "      <td>1.0</td>\n",
       "      <td>Showers</td>\n",
       "      <td>1.0</td>\n",
       "    </tr>\n",
       "    <tr>\n",
       "      <th>4</th>\n",
       "      <td>2021-03-25T07:00:00-04:00</td>\n",
       "      <td>53.0</td>\n",
       "      <td>64.0</td>\n",
       "      <td>Showers</td>\n",
       "      <td>1.0</td>\n",
       "      <td>Mostly cloudy w/ showers</td>\n",
       "      <td>1.0</td>\n",
       "    </tr>\n",
       "  </tbody>\n",
       "</table>\n",
       "</div>"
      ],
      "text/plain": [
       "                        Date  MinTemp  MaxTemp           Day  DayPrecip  \\\n",
       "0  2021-03-21T07:00:00-04:00     28.0     62.0         Sunny        0.0   \n",
       "1  2021-03-22T07:00:00-04:00     40.0     58.0  Mostly sunny        0.0   \n",
       "2  2021-03-23T07:00:00-04:00     41.0     62.0  Mostly sunny        0.0   \n",
       "3  2021-03-24T07:00:00-04:00     48.0     60.0        Dreary        1.0   \n",
       "4  2021-03-25T07:00:00-04:00     53.0     64.0       Showers        1.0   \n",
       "\n",
       "                      Night  NightPrecip  \n",
       "0                     Clear          0.0  \n",
       "1                     Clear          0.0  \n",
       "2       Intermittent clouds          0.0  \n",
       "3                   Showers          1.0  \n",
       "4  Mostly cloudy w/ showers          1.0  "
      ]
     },
     "execution_count": 9,
     "metadata": {},
     "output_type": "execute_result"
    }
   ],
   "source": [
    "cols = ['Date', 'MinTemp', 'MaxTemp', 'Day', 'DayPrecip', 'Night', 'NightPrecip']\n",
    "forecast_df[cols]"
   ]
  },
  {
   "cell_type": "code",
   "execution_count": null,
   "id": "maritime-ministry",
   "metadata": {},
   "outputs": [],
   "source": []
  }
 ],
 "metadata": {
  "kernelspec": {
   "display_name": "Python 3",
   "language": "python",
   "name": "python3"
  },
  "language_info": {
   "codemirror_mode": {
    "name": "ipython",
    "version": 3
   },
   "file_extension": ".py",
   "mimetype": "text/x-python",
   "name": "python",
   "nbconvert_exporter": "python",
   "pygments_lexer": "ipython3",
   "version": "3.7.10"
  }
 },
 "nbformat": 4,
 "nbformat_minor": 5
}

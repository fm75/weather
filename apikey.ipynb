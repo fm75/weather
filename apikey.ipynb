{
 "cells": [
  {
   "cell_type": "markdown",
   "id": "celtic-reunion",
   "metadata": {},
   "source": [
    "# Set AccuWeather APIKEY"
   ]
  },
  {
   "cell_type": "markdown",
   "id": "impaired-memorabilia",
   "metadata": {},
   "source": [
    "Use this so that the entered apikey is not exposed in notebook output"
   ]
  },
  {
   "cell_type": "code",
   "execution_count": null,
   "id": "introductory-mailman",
   "metadata": {},
   "outputs": [],
   "source": [
    "from getpass import getpass\n",
    "apikey = getpass('apikey')"
   ]
  }
 ],
 "metadata": {
  "kernelspec": {
   "display_name": "Python 3",
   "language": "python",
   "name": "python3"
  },
  "language_info": {
   "codemirror_mode": {
    "name": "ipython",
    "version": 3
   },
   "file_extension": ".py",
   "mimetype": "text/x-python",
   "name": "python",
   "nbconvert_exporter": "python",
   "pygments_lexer": "ipython3",
   "version": "3.7.10"
  }
 },
 "nbformat": 4,
 "nbformat_minor": 5
}

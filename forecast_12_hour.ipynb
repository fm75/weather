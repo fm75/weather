{
 "cells": [
  {
   "cell_type": "markdown",
   "id": "sharp-geometry",
   "metadata": {},
   "source": [
    "# 12 Hour Forecast"
   ]
  },
  {
   "cell_type": "code",
   "execution_count": 1,
   "id": "patient-reserve",
   "metadata": {},
   "outputs": [],
   "source": [
    "import requests\n",
    "import json\n",
    "import pandas as pd"
   ]
  },
  {
   "cell_type": "markdown",
   "id": "relative-chicago",
   "metadata": {},
   "source": [
    "## Supply apikey"
   ]
  },
  {
   "cell_type": "code",
   "execution_count": 2,
   "id": "handled-typing",
   "metadata": {},
   "outputs": [
    {
     "name": "stdin",
     "output_type": "stream",
     "text": [
      "apikey ································\n"
     ]
    }
   ],
   "source": [
    "from getpass import getpass\n",
    "apikey = getpass('apikey')"
   ]
  },
  {
   "cell_type": "markdown",
   "id": "olive-butter",
   "metadata": {},
   "source": [
    "## Set location key\n",
    "There are several ways to get this\n",
    "- [geoposition](geoposition.ipynb)"
   ]
  },
  {
   "cell_type": "code",
   "execution_count": 3,
   "id": "narrow-consultancy",
   "metadata": {},
   "outputs": [],
   "source": [
    "location_key = '339523'"
   ]
  },
  {
   "cell_type": "markdown",
   "id": "adapted-gospel",
   "metadata": {},
   "source": [
    "## Get 12 hour forecast"
   ]
  },
  {
   "cell_type": "code",
   "execution_count": 4,
   "id": "bright-simpson",
   "metadata": {},
   "outputs": [],
   "source": [
    "forecast_12_hour_url = 'http://dataservice.accuweather.com/forecasts/v1/hourly/12hour/' + location_key"
   ]
  },
  {
   "cell_type": "code",
   "execution_count": 5,
   "id": "unknown-holiday",
   "metadata": {},
   "outputs": [],
   "source": [
    "query = dict(apikey=apikey, details='true')\n",
    "forecast = json.loads(requests.get(forecast_12_hour_url, params=query).text)"
   ]
  },
  {
   "cell_type": "code",
   "execution_count": 6,
   "id": "round-helen",
   "metadata": {},
   "outputs": [],
   "source": [
    "# forecast[0] # To see full details of 1st hour"
   ]
  },
  {
   "cell_type": "code",
   "execution_count": 7,
   "id": "third-george",
   "metadata": {},
   "outputs": [],
   "source": [
    "forecast_df = pd.DataFrame()\n",
    "for dt in forecast:\n",
    "    row = dict(\n",
    "        Date=dt['DateTime'],\n",
    "        Cond=dt['IconPhrase'],\n",
    "        Precip=dt['PrecipitationProbability'],\n",
    "        Temp=dt['Temperature']['Value'],\n",
    "        RealFeel=dt['RealFeelTemperature']['Value'],\n",
    "        DewPoint=dt['DewPoint']['Value'],\n",
    "        Wind=dt['Wind']['Speed']['Value'],\n",
    "        Dir=dt['Wind']['Direction']['English'],\n",
    "        Compass=dt['Wind']['Direction']['Degrees'],\n",
    "        Gust=dt['WindGust']['Speed']['Value'],\n",
    "    )\n",
    "    forecast_df = forecast_df.append(row, ignore_index=True)"
   ]
  },
  {
   "cell_type": "code",
   "execution_count": 8,
   "id": "electoral-characterization",
   "metadata": {},
   "outputs": [
    {
     "data": {
      "text/html": [
       "<div>\n",
       "<style scoped>\n",
       "    .dataframe tbody tr th:only-of-type {\n",
       "        vertical-align: middle;\n",
       "    }\n",
       "\n",
       "    .dataframe tbody tr th {\n",
       "        vertical-align: top;\n",
       "    }\n",
       "\n",
       "    .dataframe thead th {\n",
       "        text-align: right;\n",
       "    }\n",
       "</style>\n",
       "<table border=\"1\" class=\"dataframe\">\n",
       "  <thead>\n",
       "    <tr style=\"text-align: right;\">\n",
       "      <th></th>\n",
       "      <th>Date</th>\n",
       "      <th>Cond</th>\n",
       "      <th>Precip</th>\n",
       "      <th>Temp</th>\n",
       "      <th>DewPoint</th>\n",
       "      <th>RealFeel</th>\n",
       "      <th>Wind</th>\n",
       "      <th>Gust</th>\n",
       "      <th>Dir</th>\n",
       "      <th>Compass</th>\n",
       "    </tr>\n",
       "  </thead>\n",
       "  <tbody>\n",
       "    <tr>\n",
       "      <th>0</th>\n",
       "      <td>2021-03-21T10:00:00-04:00</td>\n",
       "      <td>Sunny</td>\n",
       "      <td>0.0</td>\n",
       "      <td>45.0</td>\n",
       "      <td>23.0</td>\n",
       "      <td>53.0</td>\n",
       "      <td>3.5</td>\n",
       "      <td>4.6</td>\n",
       "      <td>NE</td>\n",
       "      <td>37.0</td>\n",
       "    </tr>\n",
       "    <tr>\n",
       "      <th>1</th>\n",
       "      <td>2021-03-21T11:00:00-04:00</td>\n",
       "      <td>Sunny</td>\n",
       "      <td>0.0</td>\n",
       "      <td>52.0</td>\n",
       "      <td>24.0</td>\n",
       "      <td>60.0</td>\n",
       "      <td>3.5</td>\n",
       "      <td>5.8</td>\n",
       "      <td>NE</td>\n",
       "      <td>40.0</td>\n",
       "    </tr>\n",
       "    <tr>\n",
       "      <th>2</th>\n",
       "      <td>2021-03-21T12:00:00-04:00</td>\n",
       "      <td>Sunny</td>\n",
       "      <td>0.0</td>\n",
       "      <td>56.0</td>\n",
       "      <td>24.0</td>\n",
       "      <td>64.0</td>\n",
       "      <td>4.6</td>\n",
       "      <td>5.8</td>\n",
       "      <td>NE</td>\n",
       "      <td>54.0</td>\n",
       "    </tr>\n",
       "    <tr>\n",
       "      <th>3</th>\n",
       "      <td>2021-03-21T13:00:00-04:00</td>\n",
       "      <td>Sunny</td>\n",
       "      <td>0.0</td>\n",
       "      <td>58.0</td>\n",
       "      <td>21.0</td>\n",
       "      <td>66.0</td>\n",
       "      <td>5.8</td>\n",
       "      <td>6.9</td>\n",
       "      <td>E</td>\n",
       "      <td>81.0</td>\n",
       "    </tr>\n",
       "    <tr>\n",
       "      <th>4</th>\n",
       "      <td>2021-03-21T14:00:00-04:00</td>\n",
       "      <td>Sunny</td>\n",
       "      <td>0.0</td>\n",
       "      <td>59.0</td>\n",
       "      <td>20.0</td>\n",
       "      <td>66.0</td>\n",
       "      <td>5.8</td>\n",
       "      <td>6.9</td>\n",
       "      <td>ESE</td>\n",
       "      <td>111.0</td>\n",
       "    </tr>\n",
       "    <tr>\n",
       "      <th>5</th>\n",
       "      <td>2021-03-21T15:00:00-04:00</td>\n",
       "      <td>Sunny</td>\n",
       "      <td>0.0</td>\n",
       "      <td>60.0</td>\n",
       "      <td>19.0</td>\n",
       "      <td>66.0</td>\n",
       "      <td>5.8</td>\n",
       "      <td>8.1</td>\n",
       "      <td>SE</td>\n",
       "      <td>125.0</td>\n",
       "    </tr>\n",
       "    <tr>\n",
       "      <th>6</th>\n",
       "      <td>2021-03-21T16:00:00-04:00</td>\n",
       "      <td>Sunny</td>\n",
       "      <td>0.0</td>\n",
       "      <td>62.0</td>\n",
       "      <td>20.0</td>\n",
       "      <td>65.0</td>\n",
       "      <td>5.8</td>\n",
       "      <td>8.1</td>\n",
       "      <td>SE</td>\n",
       "      <td>125.0</td>\n",
       "    </tr>\n",
       "    <tr>\n",
       "      <th>7</th>\n",
       "      <td>2021-03-21T17:00:00-04:00</td>\n",
       "      <td>Sunny</td>\n",
       "      <td>0.0</td>\n",
       "      <td>60.0</td>\n",
       "      <td>20.0</td>\n",
       "      <td>61.0</td>\n",
       "      <td>5.8</td>\n",
       "      <td>8.1</td>\n",
       "      <td>SE</td>\n",
       "      <td>127.0</td>\n",
       "    </tr>\n",
       "    <tr>\n",
       "      <th>8</th>\n",
       "      <td>2021-03-21T18:00:00-04:00</td>\n",
       "      <td>Sunny</td>\n",
       "      <td>0.0</td>\n",
       "      <td>58.0</td>\n",
       "      <td>21.0</td>\n",
       "      <td>57.0</td>\n",
       "      <td>6.9</td>\n",
       "      <td>8.1</td>\n",
       "      <td>SE</td>\n",
       "      <td>137.0</td>\n",
       "    </tr>\n",
       "    <tr>\n",
       "      <th>9</th>\n",
       "      <td>2021-03-21T19:00:00-04:00</td>\n",
       "      <td>Sunny</td>\n",
       "      <td>0.0</td>\n",
       "      <td>54.0</td>\n",
       "      <td>23.0</td>\n",
       "      <td>51.0</td>\n",
       "      <td>6.9</td>\n",
       "      <td>9.2</td>\n",
       "      <td>SE</td>\n",
       "      <td>145.0</td>\n",
       "    </tr>\n",
       "    <tr>\n",
       "      <th>10</th>\n",
       "      <td>2021-03-21T20:00:00-04:00</td>\n",
       "      <td>Clear</td>\n",
       "      <td>0.0</td>\n",
       "      <td>50.0</td>\n",
       "      <td>23.0</td>\n",
       "      <td>47.0</td>\n",
       "      <td>6.9</td>\n",
       "      <td>9.2</td>\n",
       "      <td>SSE</td>\n",
       "      <td>148.0</td>\n",
       "    </tr>\n",
       "    <tr>\n",
       "      <th>11</th>\n",
       "      <td>2021-03-21T21:00:00-04:00</td>\n",
       "      <td>Clear</td>\n",
       "      <td>0.0</td>\n",
       "      <td>44.0</td>\n",
       "      <td>24.0</td>\n",
       "      <td>42.0</td>\n",
       "      <td>5.8</td>\n",
       "      <td>8.1</td>\n",
       "      <td>SSE</td>\n",
       "      <td>153.0</td>\n",
       "    </tr>\n",
       "  </tbody>\n",
       "</table>\n",
       "</div>"
      ],
      "text/plain": [
       "                         Date   Cond  Precip  Temp  DewPoint  RealFeel  Wind  \\\n",
       "0   2021-03-21T10:00:00-04:00  Sunny     0.0  45.0      23.0      53.0   3.5   \n",
       "1   2021-03-21T11:00:00-04:00  Sunny     0.0  52.0      24.0      60.0   3.5   \n",
       "2   2021-03-21T12:00:00-04:00  Sunny     0.0  56.0      24.0      64.0   4.6   \n",
       "3   2021-03-21T13:00:00-04:00  Sunny     0.0  58.0      21.0      66.0   5.8   \n",
       "4   2021-03-21T14:00:00-04:00  Sunny     0.0  59.0      20.0      66.0   5.8   \n",
       "5   2021-03-21T15:00:00-04:00  Sunny     0.0  60.0      19.0      66.0   5.8   \n",
       "6   2021-03-21T16:00:00-04:00  Sunny     0.0  62.0      20.0      65.0   5.8   \n",
       "7   2021-03-21T17:00:00-04:00  Sunny     0.0  60.0      20.0      61.0   5.8   \n",
       "8   2021-03-21T18:00:00-04:00  Sunny     0.0  58.0      21.0      57.0   6.9   \n",
       "9   2021-03-21T19:00:00-04:00  Sunny     0.0  54.0      23.0      51.0   6.9   \n",
       "10  2021-03-21T20:00:00-04:00  Clear     0.0  50.0      23.0      47.0   6.9   \n",
       "11  2021-03-21T21:00:00-04:00  Clear     0.0  44.0      24.0      42.0   5.8   \n",
       "\n",
       "    Gust  Dir  Compass  \n",
       "0    4.6   NE     37.0  \n",
       "1    5.8   NE     40.0  \n",
       "2    5.8   NE     54.0  \n",
       "3    6.9    E     81.0  \n",
       "4    6.9  ESE    111.0  \n",
       "5    8.1   SE    125.0  \n",
       "6    8.1   SE    125.0  \n",
       "7    8.1   SE    127.0  \n",
       "8    8.1   SE    137.0  \n",
       "9    9.2   SE    145.0  \n",
       "10   9.2  SSE    148.0  \n",
       "11   8.1  SSE    153.0  "
      ]
     },
     "execution_count": 8,
     "metadata": {},
     "output_type": "execute_result"
    }
   ],
   "source": [
    "cols = ['Date', 'Cond', 'Precip', 'Temp', 'DewPoint', 'RealFeel', 'Wind', 'Gust', 'Dir','Compass']\n",
    "forecast_df[cols]"
   ]
  },
  {
   "cell_type": "code",
   "execution_count": 10,
   "id": "patent-budget",
   "metadata": {},
   "outputs": [
    {
     "data": {
      "text/plain": [
       "{'DateTime': '2021-03-21T10:00:00-04:00',\n",
       " 'EpochDateTime': 1616335200,\n",
       " 'WeatherIcon': 1,\n",
       " 'IconPhrase': 'Sunny',\n",
       " 'HasPrecipitation': False,\n",
       " 'IsDaylight': True,\n",
       " 'Temperature': {'Value': 45.0, 'Unit': 'F', 'UnitType': 18},\n",
       " 'PrecipitationProbability': 0,\n",
       " 'MobileLink': 'http://m.accuweather.com/en/us/princeton-nj/08544/hourly-weather-forecast/339523?day=1&hbhhour=10&lang=en-us',\n",
       " 'Link': 'http://www.accuweather.com/en/us/princeton-nj/08544/hourly-weather-forecast/339523?day=1&hbhhour=10&lang=en-us'}"
      ]
     },
     "execution_count": 10,
     "metadata": {},
     "output_type": "execute_result"
    }
   ],
   "source": [
    "query = dict(apikey=apikey, details='false')\n",
    "forecast = json.loads(requests.get(forecast_12_hour_url, params=query).text)\n",
    "\n",
    "forecast[0]"
   ]
  },
  {
   "cell_type": "code",
   "execution_count": null,
   "id": "considerable-tension",
   "metadata": {},
   "outputs": [],
   "source": []
  }
 ],
 "metadata": {
  "kernelspec": {
   "display_name": "Python 3",
   "language": "python",
   "name": "python3"
  },
  "language_info": {
   "codemirror_mode": {
    "name": "ipython",
    "version": 3
   },
   "file_extension": ".py",
   "mimetype": "text/x-python",
   "name": "python",
   "nbconvert_exporter": "python",
   "pygments_lexer": "ipython3",
   "version": "3.7.10"
  }
 },
 "nbformat": 4,
 "nbformat_minor": 5
}

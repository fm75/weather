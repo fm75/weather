{
 "cells": [
  {
   "cell_type": "markdown",
   "id": "chemical-material",
   "metadata": {},
   "source": [
    "# 5 Day Forecast"
   ]
  },
  {
   "cell_type": "code",
   "execution_count": 1,
   "id": "eleven-tactics",
   "metadata": {},
   "outputs": [],
   "source": [
    "import requests\n",
    "import json\n",
    "import pandas as pd"
   ]
  },
  {
   "cell_type": "markdown",
   "id": "fiscal-devil",
   "metadata": {},
   "source": [
    "## Supply apikey"
   ]
  },
  {
   "cell_type": "code",
   "execution_count": 2,
   "id": "seven-payroll",
   "metadata": {},
   "outputs": [
    {
     "name": "stdin",
     "output_type": "stream",
     "text": [
      "apikey ································\n"
     ]
    }
   ],
   "source": [
    "from getpass import getpass\n",
    "apikey = getpass('apikey')"
   ]
  },
  {
   "cell_type": "markdown",
   "id": "august-defendant",
   "metadata": {},
   "source": [
    "## Set location key\n",
    "There are several ways to get this\n",
    "- [geoposition](geoposition.ipynb)"
   ]
  },
  {
   "cell_type": "code",
   "execution_count": 3,
   "id": "resident-narrative",
   "metadata": {},
   "outputs": [],
   "source": [
    "location_key = '339523'"
   ]
  },
  {
   "cell_type": "markdown",
   "id": "respected-backing",
   "metadata": {},
   "source": [
    "## Set desired index\n",
    "[From index list](index_list.ipynb)"
   ]
  },
  {
   "cell_type": "code",
   "execution_count": 4,
   "id": "parliamentary-noise",
   "metadata": {},
   "outputs": [],
   "source": [
    "index = '6' # "
   ]
  },
  {
   "cell_type": "markdown",
   "id": "ordinary-april",
   "metadata": {},
   "source": [
    "## Get 5 day forecast"
   ]
  },
  {
   "cell_type": "code",
   "execution_count": 5,
   "id": "knowing-metabolism",
   "metadata": {},
   "outputs": [],
   "source": [
    "forecast_5day_url = 'http://dataservice.accuweather.com/indices/v1/daily/5day/' + location_key + '/' + index"
   ]
  },
  {
   "cell_type": "code",
   "execution_count": 6,
   "id": "coupled-following",
   "metadata": {},
   "outputs": [],
   "source": [
    "query = dict(apikey=apikey)\n",
    "forecast = json.loads(requests.get(forecast_5day_url, params=query).text)"
   ]
  },
  {
   "cell_type": "code",
   "execution_count": 7,
   "id": "weekly-voluntary",
   "metadata": {},
   "outputs": [],
   "source": [
    "index_df = pd.DataFrame(forecast)"
   ]
  },
  {
   "cell_type": "code",
   "execution_count": 8,
   "id": "blessed-ceiling",
   "metadata": {},
   "outputs": [],
   "source": [
    "cols = ['Name', 'LocalDateTime', 'Value', 'Category', 'CategoryValue']"
   ]
  },
  {
   "cell_type": "code",
   "execution_count": 9,
   "id": "amazing-peripheral",
   "metadata": {},
   "outputs": [
    {
     "data": {
      "text/html": [
       "<div>\n",
       "<style scoped>\n",
       "    .dataframe tbody tr th:only-of-type {\n",
       "        vertical-align: middle;\n",
       "    }\n",
       "\n",
       "    .dataframe tbody tr th {\n",
       "        vertical-align: top;\n",
       "    }\n",
       "\n",
       "    .dataframe thead th {\n",
       "        text-align: right;\n",
       "    }\n",
       "</style>\n",
       "<table border=\"1\" class=\"dataframe\">\n",
       "  <thead>\n",
       "    <tr style=\"text-align: right;\">\n",
       "      <th></th>\n",
       "      <th>Name</th>\n",
       "      <th>LocalDateTime</th>\n",
       "      <th>Value</th>\n",
       "      <th>Category</th>\n",
       "      <th>CategoryValue</th>\n",
       "    </tr>\n",
       "  </thead>\n",
       "  <tbody>\n",
       "    <tr>\n",
       "      <th>0</th>\n",
       "      <td>Tennis Forecast</td>\n",
       "      <td>2021-03-21T07:00:00-04:00</td>\n",
       "      <td>8.3</td>\n",
       "      <td>Very Good</td>\n",
       "      <td>4</td>\n",
       "    </tr>\n",
       "    <tr>\n",
       "      <th>1</th>\n",
       "      <td>Tennis Forecast</td>\n",
       "      <td>2021-03-22T07:00:00-04:00</td>\n",
       "      <td>9.0</td>\n",
       "      <td>Excellent</td>\n",
       "      <td>5</td>\n",
       "    </tr>\n",
       "    <tr>\n",
       "      <th>2</th>\n",
       "      <td>Tennis Forecast</td>\n",
       "      <td>2021-03-23T07:00:00-04:00</td>\n",
       "      <td>9.1</td>\n",
       "      <td>Excellent</td>\n",
       "      <td>5</td>\n",
       "    </tr>\n",
       "    <tr>\n",
       "      <th>3</th>\n",
       "      <td>Tennis Forecast</td>\n",
       "      <td>2021-03-24T07:00:00-04:00</td>\n",
       "      <td>6.9</td>\n",
       "      <td>Good</td>\n",
       "      <td>3</td>\n",
       "    </tr>\n",
       "    <tr>\n",
       "      <th>4</th>\n",
       "      <td>Tennis Forecast</td>\n",
       "      <td>2021-03-25T07:00:00-04:00</td>\n",
       "      <td>5.3</td>\n",
       "      <td>Good</td>\n",
       "      <td>3</td>\n",
       "    </tr>\n",
       "  </tbody>\n",
       "</table>\n",
       "</div>"
      ],
      "text/plain": [
       "              Name              LocalDateTime  Value   Category  CategoryValue\n",
       "0  Tennis Forecast  2021-03-21T07:00:00-04:00    8.3  Very Good              4\n",
       "1  Tennis Forecast  2021-03-22T07:00:00-04:00    9.0  Excellent              5\n",
       "2  Tennis Forecast  2021-03-23T07:00:00-04:00    9.1  Excellent              5\n",
       "3  Tennis Forecast  2021-03-24T07:00:00-04:00    6.9       Good              3\n",
       "4  Tennis Forecast  2021-03-25T07:00:00-04:00    5.3       Good              3"
      ]
     },
     "execution_count": 9,
     "metadata": {},
     "output_type": "execute_result"
    }
   ],
   "source": [
    "index_df[cols]"
   ]
  }
 ],
 "metadata": {
  "kernelspec": {
   "display_name": "Python 3",
   "language": "python",
   "name": "python3"
  },
  "language_info": {
   "codemirror_mode": {
    "name": "ipython",
    "version": 3
   },
   "file_extension": ".py",
   "mimetype": "text/x-python",
   "name": "python",
   "nbconvert_exporter": "python",
   "pygments_lexer": "ipython3",
   "version": "3.7.10"
  }
 },
 "nbformat": 4,
 "nbformat_minor": 5
}

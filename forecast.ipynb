{
 "cells": [
  {
   "cell_type": "markdown",
   "id": "changed-pantyhose",
   "metadata": {},
   "source": [
    "# Weather"
   ]
  },
  {
   "cell_type": "code",
   "execution_count": 1,
   "id": "figured-hawaii",
   "metadata": {},
   "outputs": [],
   "source": [
    "import requests\n",
    "import json\n",
    "import pandas as pd"
   ]
  },
  {
   "cell_type": "markdown",
   "id": "basic-kitty",
   "metadata": {},
   "source": [
    "## Get location key"
   ]
  },
  {
   "cell_type": "code",
   "execution_count": 2,
   "id": "established-patient",
   "metadata": {},
   "outputs": [
    {
     "name": "stdin",
     "output_type": "stream",
     "text": [
      " your_apikey\n"
     ]
    }
   ],
   "source": [
    "apikey = input()"
   ]
  },
  {
   "cell_type": "code",
   "execution_count": 3,
   "id": "posted-bennett",
   "metadata": {},
   "outputs": [
    {
     "data": {
      "text/plain": [
       "'339523'"
      ]
     },
     "execution_count": 3,
     "metadata": {},
     "output_type": "execute_result"
    }
   ],
   "source": [
    "lat_lon = '40.378583,-74.695556'\n",
    "\n",
    "geo_url = 'http://dataservice.accuweather.com/locations/v1/cities/geoposition/search'\n",
    "query = dict(apikey=apikey, q=lat_lon)\n",
    "location_key = json.loads(requests.get(geo_url, params=query).text)['Key']\n",
    "location_key"
   ]
  },
  {
   "cell_type": "markdown",
   "id": "occupied-czech",
   "metadata": {},
   "source": [
    "## Get 5 day forecast"
   ]
  },
  {
   "cell_type": "code",
   "execution_count": 4,
   "id": "individual-entrance",
   "metadata": {},
   "outputs": [],
   "source": [
    "forecast_5day_url = 'http://dataservice.accuweather.com/forecasts/v1/daily/5day/' + location_key"
   ]
  },
  {
   "cell_type": "code",
   "execution_count": 5,
   "id": "suspended-census",
   "metadata": {},
   "outputs": [],
   "source": [
    "query5 = dict(apikey=apikey)\n",
    "forecast = json.loads(requests.get(forecast_5day_url, params=query5).text)"
   ]
  },
  {
   "cell_type": "code",
   "execution_count": 6,
   "id": "solved-cradle",
   "metadata": {},
   "outputs": [
    {
     "name": "stdout",
     "output_type": "stream",
     "text": [
      "Forecast effective 2021-03-20T08:00:00-04:00\n",
      "Becoming noticeably milder today\n",
      "warmer\n"
     ]
    }
   ],
   "source": [
    "headline = forecast['Headline']\n",
    "print(f\"Forecast effective {headline['EffectiveDate']}\\n{headline['Text']}\\n{headline['Category']}\")"
   ]
  },
  {
   "cell_type": "code",
   "execution_count": 7,
   "id": "sharing-cookie",
   "metadata": {},
   "outputs": [],
   "source": [
    "# for dt in forecast['DailyForecasts']:\n",
    "#     print(dt['Date'], \n",
    "#           dt['Temperature']['Minimum']['Value'],\n",
    "#           dt['Temperature']['Maximum']['Value'],\n",
    "#           'Day time',\n",
    "#           dt['Day']['IconPhrase'],\n",
    "#           'Precipitation',\n",
    "#           dt['Day']['HasPrecipitation'],\n",
    "#           'Night time',\n",
    "#           dt['Night']['IconPhrase'],\n",
    "#           'Precipitation',\n",
    "#           dt['Night']['HasPrecipitation'],\n",
    "#          )"
   ]
  },
  {
   "cell_type": "code",
   "execution_count": 8,
   "id": "norwegian-initial",
   "metadata": {},
   "outputs": [],
   "source": [
    "forecast_df = pd.DataFrame()\n",
    "for dt in forecast['DailyForecasts']:\n",
    "    row = dict(\n",
    "        Date=dt['Date'],\n",
    "        MinTemp=dt['Temperature']['Minimum']['Value'],\n",
    "        MaxTemp=dt['Temperature']['Maximum']['Value'],\n",
    "        Day=dt['Day']['IconPhrase'],\n",
    "        DayPrecip=dt['Day']['HasPrecipitation'],\n",
    "        Night=dt['Night']['IconPhrase'],\n",
    "        NightPrecip=dt['Night']['HasPrecipitation'],\n",
    "    )\n",
    "    forecast_df = forecast_df.append(row, ignore_index=True)"
   ]
  },
  {
   "cell_type": "code",
   "execution_count": 9,
   "id": "satisfactory-amendment",
   "metadata": {},
   "outputs": [
    {
     "data": {
      "text/html": [
       "<div>\n",
       "<style scoped>\n",
       "    .dataframe tbody tr th:only-of-type {\n",
       "        vertical-align: middle;\n",
       "    }\n",
       "\n",
       "    .dataframe tbody tr th {\n",
       "        vertical-align: top;\n",
       "    }\n",
       "\n",
       "    .dataframe thead th {\n",
       "        text-align: right;\n",
       "    }\n",
       "</style>\n",
       "<table border=\"1\" class=\"dataframe\">\n",
       "  <thead>\n",
       "    <tr style=\"text-align: right;\">\n",
       "      <th></th>\n",
       "      <th>Date</th>\n",
       "      <th>MinTemp</th>\n",
       "      <th>MaxTemp</th>\n",
       "      <th>Day</th>\n",
       "      <th>DayPrecip</th>\n",
       "      <th>Night</th>\n",
       "      <th>NightPrecip</th>\n",
       "    </tr>\n",
       "  </thead>\n",
       "  <tbody>\n",
       "    <tr>\n",
       "      <th>0</th>\n",
       "      <td>2021-03-20T07:00:00-04:00</td>\n",
       "      <td>33.0</td>\n",
       "      <td>57.0</td>\n",
       "      <td>Sunny</td>\n",
       "      <td>0.0</td>\n",
       "      <td>Clear</td>\n",
       "      <td>0.0</td>\n",
       "    </tr>\n",
       "    <tr>\n",
       "      <th>1</th>\n",
       "      <td>2021-03-21T07:00:00-04:00</td>\n",
       "      <td>30.0</td>\n",
       "      <td>61.0</td>\n",
       "      <td>Sunny</td>\n",
       "      <td>0.0</td>\n",
       "      <td>Clear</td>\n",
       "      <td>0.0</td>\n",
       "    </tr>\n",
       "    <tr>\n",
       "      <th>2</th>\n",
       "      <td>2021-03-22T07:00:00-04:00</td>\n",
       "      <td>39.0</td>\n",
       "      <td>58.0</td>\n",
       "      <td>Mostly sunny</td>\n",
       "      <td>0.0</td>\n",
       "      <td>Clear</td>\n",
       "      <td>0.0</td>\n",
       "    </tr>\n",
       "    <tr>\n",
       "      <th>3</th>\n",
       "      <td>2021-03-23T07:00:00-04:00</td>\n",
       "      <td>45.0</td>\n",
       "      <td>61.0</td>\n",
       "      <td>Mostly sunny</td>\n",
       "      <td>0.0</td>\n",
       "      <td>Intermittent clouds</td>\n",
       "      <td>0.0</td>\n",
       "    </tr>\n",
       "    <tr>\n",
       "      <th>4</th>\n",
       "      <td>2021-03-24T07:00:00-04:00</td>\n",
       "      <td>49.0</td>\n",
       "      <td>61.0</td>\n",
       "      <td>Dreary</td>\n",
       "      <td>0.0</td>\n",
       "      <td>Dreary</td>\n",
       "      <td>0.0</td>\n",
       "    </tr>\n",
       "  </tbody>\n",
       "</table>\n",
       "</div>"
      ],
      "text/plain": [
       "                        Date  MinTemp  MaxTemp           Day  DayPrecip  \\\n",
       "0  2021-03-20T07:00:00-04:00     33.0     57.0         Sunny        0.0   \n",
       "1  2021-03-21T07:00:00-04:00     30.0     61.0         Sunny        0.0   \n",
       "2  2021-03-22T07:00:00-04:00     39.0     58.0  Mostly sunny        0.0   \n",
       "3  2021-03-23T07:00:00-04:00     45.0     61.0  Mostly sunny        0.0   \n",
       "4  2021-03-24T07:00:00-04:00     49.0     61.0        Dreary        0.0   \n",
       "\n",
       "                 Night  NightPrecip  \n",
       "0                Clear          0.0  \n",
       "1                Clear          0.0  \n",
       "2                Clear          0.0  \n",
       "3  Intermittent clouds          0.0  \n",
       "4               Dreary          0.0  "
      ]
     },
     "execution_count": 9,
     "metadata": {},
     "output_type": "execute_result"
    }
   ],
   "source": [
    "cols = ['Date', 'MinTemp', 'MaxTemp', 'Day', 'DayPrecip', 'Night', 'NightPrecip']\n",
    "forecast_df[cols]"
   ]
  },
  {
   "cell_type": "code",
   "execution_count": 10,
   "id": "worse-breakdown",
   "metadata": {},
   "outputs": [],
   "source": [
    "# forecast"
   ]
  },
  {
   "cell_type": "code",
   "execution_count": null,
   "id": "renewable-imperial",
   "metadata": {},
   "outputs": [],
   "source": []
  }
 ],
 "metadata": {
  "kernelspec": {
   "display_name": "Python 3",
   "language": "python",
   "name": "python3"
  },
  "language_info": {
   "codemirror_mode": {
    "name": "ipython",
    "version": 3
   },
   "file_extension": ".py",
   "mimetype": "text/x-python",
   "name": "python",
   "nbconvert_exporter": "python",
   "pygments_lexer": "ipython3",
   "version": "3.7.10"
  }
 },
 "nbformat": 4,
 "nbformat_minor": 5
}

{
 "cells": [
  {
   "cell_type": "markdown",
   "id": "latter-developer",
   "metadata": {},
   "source": [
    "# geoposition url\n",
    "## Gets location key from lat, lon"
   ]
  },
  {
   "cell_type": "code",
   "execution_count": 1,
   "id": "retained-hudson",
   "metadata": {},
   "outputs": [],
   "source": [
    "import requests\n",
    "import json"
   ]
  },
  {
   "cell_type": "markdown",
   "id": "polyphonic-angel",
   "metadata": {},
   "source": [
    "## Get location key"
   ]
  },
  {
   "cell_type": "code",
   "execution_count": 2,
   "id": "interesting-gravity",
   "metadata": {},
   "outputs": [
    {
     "name": "stdin",
     "output_type": "stream",
     "text": [
      "apikey ································\n"
     ]
    }
   ],
   "source": [
    "from getpass import getpass\n",
    "apikey = getpass('apikey')"
   ]
  },
  {
   "cell_type": "code",
   "execution_count": 3,
   "id": "postal-cheese",
   "metadata": {},
   "outputs": [
    {
     "data": {
      "text/plain": [
       "'339523'"
      ]
     },
     "execution_count": 3,
     "metadata": {},
     "output_type": "execute_result"
    }
   ],
   "source": [
    "lat_lon = '40.378583,-74.695556'\n",
    "\n",
    "geo_url = 'http://dataservice.accuweather.com/locations/v1/cities/geoposition/search'\n",
    "query = dict(apikey=apikey, q=lat_lon)\n",
    "location_key = json.loads(requests.get(geo_url, params=query).text)['Key']\n",
    "location_key"
   ]
  }
 ],
 "metadata": {
  "kernelspec": {
   "display_name": "Python 3",
   "language": "python",
   "name": "python3"
  },
  "language_info": {
   "codemirror_mode": {
    "name": "ipython",
    "version": 3
   },
   "file_extension": ".py",
   "mimetype": "text/x-python",
   "name": "python",
   "nbconvert_exporter": "python",
   "pygments_lexer": "ipython3",
   "version": "3.7.10"
  }
 },
 "nbformat": 4,
 "nbformat_minor": 5
}
